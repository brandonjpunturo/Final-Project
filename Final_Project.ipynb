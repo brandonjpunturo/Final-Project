{
 "cells": [
  {
   "cell_type": "code",
   "execution_count": null,
   "metadata": {
    "ExecuteTime": {
     "end_time": "2018-12-13T21:44:28.055955Z",
     "start_time": "2018-12-13T21:44:17.468496Z"
    },
    "colab": {
     "base_uri": "https://localhost:8080/",
     "height": 814
    },
    "colab_type": "code",
    "id": "UScvVEa18PWS",
    "outputId": "fafba16e-c0ef-4160-81ae-2e6a55ed899c"
   },
   "outputs": [],
   "source": [
    "\n",
    "from collections import Counter\n",
    "import re\n",
    "import string\n",
    "from random import shuffle\n",
    "\n",
    "from subprocess import call\n",
    "from IPython.display import Image\n",
    "\n",
    "!pip install xlrd\n",
    "import numpy as np\n",
    "import pandas as pd\n",
    "\n",
    "import seaborn as sns\n",
    "import matplotlib.pyplot as plt\n",
    "\n",
    "import spacy\n",
    "from scipy import stats\n",
    "\n",
    "!pip install textblob\n",
    "from textblob import TextBlob\n",
    "\n",
    "!pip install textstat\n",
    "import textstat\n",
    "\n",
    "import matplotlib.pyplot as plt\n",
    "import seaborn as sns\n",
    "plt.style.use(\"ggplot\")\n",
    "\n",
    "from scipy import stats\n",
    "\n",
    "!python -m spacy download en\n",
    "import spacy\n",
    "\n",
    "from sklearn import metrics\n",
    "from sklearn.model_selection import train_test_split\n",
    "from sklearn.preprocessing import StandardScaler\n",
    "\n",
    "from sklearn.linear_model import LogisticRegression\n",
    "from sklearn.ensemble import RandomForestClassifier\n",
    "\n",
    "from sklearn import metrics\n",
    "from sklearn.metrics import classification_report, confusion_matrix, accuracy_score\n",
    "!pip install yellowbrick\n",
    "from yellowbrick.classifier import ClassificationReport\n",
    "\n",
    "!pip install empath\n",
    "from empath import Empath\n",
    "\n",
    "from sklearn.model_selection import RandomizedSearchCV\n",
    "!apt-get install graphviz -y\n",
    "from sklearn.tree import export_graphviz"
   ]
  },
  {
   "cell_type": "code",
   "execution_count": null,
   "metadata": {
    "ExecuteTime": {
     "end_time": "2018-12-13T21:39:35.296627Z",
     "start_time": "2018-12-13T21:39:34.847753Z"
    },
    "colab": {
     "base_uri": "https://localhost:8080/",
     "height": 105
    },
    "colab_type": "code",
    "id": "sv4kEken84Yx",
    "outputId": "fca631db-4f60-4760-b983-922d84724540"
   },
   "outputs": [],
   "source": [
    "#Reading in Non_Russians data set\n",
    "Non_Russian=pd.read_csv(\"csv-zusammenfuehren.de_3mjg6fs7.csv\", error_bad_lines=False)"
   ]
  },
  {
   "cell_type": "code",
   "execution_count": null,
   "metadata": {
    "ExecuteTime": {
     "end_time": "2018-12-13T21:39:36.539263Z",
     "start_time": "2018-12-13T21:39:36.418730Z"
    },
    "colab": {},
    "colab_type": "code",
    "id": "dGUjbICN9G4n"
   },
   "outputs": [],
   "source": [
    "#Reading in comments by Russian Trolls\n",
    "Russians=pd.read_csv(\"comments.csv\")"
   ]
  },
  {
   "cell_type": "code",
   "execution_count": null,
   "metadata": {
    "ExecuteTime": {
     "end_time": "2018-12-13T21:39:37.838312Z",
     "start_time": "2018-12-13T21:39:37.826216Z"
    },
    "colab": {},
    "colab_type": "code",
    "id": "EinbpiPqdJCQ"
   },
   "outputs": [],
   "source": [
    "Non_Russian=Non_Russian[[\"body\",'controversiality','created_utc',\"subreddit\",\"score\"]]"
   ]
  },
  {
   "cell_type": "code",
   "execution_count": null,
   "metadata": {
    "ExecuteTime": {
     "end_time": "2018-12-13T21:39:38.406067Z",
     "start_time": "2018-12-13T21:39:38.397202Z"
    },
    "colab": {},
    "colab_type": "code",
    "id": "xp0ETadpcamL"
   },
   "outputs": [],
   "source": [
    "Russians=Russians[[\"body\",\"controversiality\",\"created_utc\",\"subreddit.display_name_prefixed\",\"score\"]]"
   ]
  },
  {
   "cell_type": "code",
   "execution_count": null,
   "metadata": {
    "ExecuteTime": {
     "end_time": "2018-12-13T21:39:38.880633Z",
     "start_time": "2018-12-13T21:39:38.843209Z"
    },
    "colab": {
     "base_uri": "https://localhost:8080/",
     "height": 204
    },
    "colab_type": "code",
    "id": "WsFlaS9MeITF",
    "outputId": "61f3e86f-17df-47bc-ee94-e663bed9ef0b"
   },
   "outputs": [],
   "source": [
    "Non_Russian.head()"
   ]
  },
  {
   "cell_type": "markdown",
   "metadata": {
    "colab_type": "text",
    "id": "Xdzmg1q7e2dZ"
   },
   "source": [
    "# Subreddit EDA"
   ]
  },
  {
   "cell_type": "code",
   "execution_count": null,
   "metadata": {
    "ExecuteTime": {
     "end_time": "2018-12-13T21:39:39.764334Z",
     "start_time": "2018-12-13T21:39:39.725157Z"
    },
    "colab": {
     "base_uri": "https://localhost:8080/",
     "height": 297
    },
    "colab_type": "code",
    "id": "6jfuCMiqltlU",
    "outputId": "f4439751-d6ff-4a22-e2e6-d95da630ebff"
   },
   "outputs": [],
   "source": [
    "Russians.describe()"
   ]
  },
  {
   "cell_type": "code",
   "execution_count": null,
   "metadata": {
    "ExecuteTime": {
     "end_time": "2018-12-13T21:39:40.409357Z",
     "start_time": "2018-12-13T21:39:39.928363Z"
    },
    "colab": {
     "base_uri": "https://localhost:8080/",
     "height": 485
    },
    "colab_type": "code",
    "id": "xDKlHyDj-LlI",
    "outputId": "70471dd6-5dc9-424a-97d5-081c18660c9c"
   },
   "outputs": [],
   "source": [
    "#Trolls Top Subreddits\n",
    "Russians.head()\n",
    "ax=Russians[\"subreddit.display_name_prefixed\"].value_counts()[:10].plot(kind=\"bar\",title=\"Top Subreddits for Russian Trolls\")\n",
    "ax.set_xlabel(\"SubReddit Name\")\n",
    "ax.set_ylabel(\"Number of comments from that subreddit\")"
   ]
  },
  {
   "cell_type": "code",
   "execution_count": null,
   "metadata": {
    "ExecuteTime": {
     "end_time": "2018-12-13T21:39:40.850737Z",
     "start_time": "2018-12-13T21:39:40.412716Z"
    },
    "colab": {
     "base_uri": "https://localhost:8080/",
     "height": 460
    },
    "colab_type": "code",
    "id": "779NlIkS-Mbg",
    "outputId": "0f892b61-3840-42b8-e349-5bfbe49f323b"
   },
   "outputs": [],
   "source": [
    "#Top Non_Russian Subreddits\n",
    "Non_Russian.head()\n",
    "ax=Non_Russian[\"subreddit\"].value_counts()[:10].plot(kind=\"bar\",title=\"Top Subreddits for Regular Users\")\n",
    "ax.set_xlabel(\"SubReddit Name\")\n",
    "ax.set_ylabel(\"Number of comments from that subreddit\")"
   ]
  },
  {
   "cell_type": "code",
   "execution_count": null,
   "metadata": {
    "ExecuteTime": {
     "end_time": "2018-12-13T21:39:40.926019Z",
     "start_time": "2018-12-13T21:39:40.854208Z"
    },
    "colab": {
     "base_uri": "https://localhost:8080/",
     "height": 34
    },
    "colab_type": "code",
    "id": "pZ-oPpXp-Oew",
    "outputId": "aa8e12a5-b59e-4353-ccfb-b8d991538d7a"
   },
   "outputs": [],
   "source": [
    "#How many non_russian comments are there\n",
    "len(Non_Russian.drop_duplicates())"
   ]
  },
  {
   "cell_type": "code",
   "execution_count": null,
   "metadata": {
    "ExecuteTime": {
     "end_time": "2018-12-13T21:39:40.949364Z",
     "start_time": "2018-12-13T21:39:40.930246Z"
    },
    "colab": {},
    "colab_type": "code",
    "id": "S-j98Ns9_LrV"
   },
   "outputs": [],
   "source": [
    "#Sample the same number of non-russian comments as russian comments\n",
    "Non_Russians_Sample=Non_Russian.sample(n=len(Russians),random_state=1)"
   ]
  },
  {
   "cell_type": "code",
   "execution_count": null,
   "metadata": {
    "ExecuteTime": {
     "end_time": "2018-12-13T21:39:41.338836Z",
     "start_time": "2018-12-13T21:39:40.952953Z"
    },
    "colab": {
     "base_uri": "https://localhost:8080/",
     "height": 427
    },
    "colab_type": "code",
    "id": "DmR41TMn_kC4",
    "outputId": "b84c8ec8-3f84-46c9-83d2-33a7ce0e2207"
   },
   "outputs": [],
   "source": [
    "#Top SubReddits from random sample\n",
    "Non_Russians_Sample[\"subreddit\"].value_counts()[:10].plot(kind=\"bar\")"
   ]
  },
  {
   "cell_type": "code",
   "execution_count": null,
   "metadata": {
    "ExecuteTime": {
     "end_time": "2018-12-13T21:39:41.373051Z",
     "start_time": "2018-12-13T21:39:41.341990Z"
    },
    "colab": {
     "base_uri": "https://localhost:8080/",
     "height": 68
    },
    "colab_type": "code",
    "id": "LB0zsSf5_12K",
    "outputId": "41b25136-65a6-4a11-e90c-183010c01b4b"
   },
   "outputs": [],
   "source": [
    "#How many top subreddits do both datasets contain\n",
    "Non_Russians_Sample[\"subreddit\"].value_counts()[:20].index.isin(Non_Russian[\"subreddit\"].value_counts()[:20].index)"
   ]
  },
  {
   "cell_type": "code",
   "execution_count": null,
   "metadata": {
    "ExecuteTime": {
     "end_time": "2018-12-13T21:39:41.403936Z",
     "start_time": "2018-12-13T21:39:41.376061Z"
    },
    "colab": {
     "base_uri": "https://localhost:8080/",
     "height": 102
    },
    "colab_type": "code",
    "id": "oxs38TKJBv_Y",
    "outputId": "f1eabdfe-a70c-40b2-9f64-181a294cd98e"
   },
   "outputs": [],
   "source": [
    "#Listing twenty most common subreddits\n",
    "Non_Russian[\"subreddit\"].value_counts()[:20].index"
   ]
  },
  {
   "cell_type": "markdown",
   "metadata": {
    "colab_type": "text",
    "id": "eNVxyTFtfMa1"
   },
   "source": [
    "# EDA UpVotes"
   ]
  },
  {
   "cell_type": "code",
   "execution_count": null,
   "metadata": {
    "ExecuteTime": {
     "end_time": "2018-12-13T21:39:41.421734Z",
     "start_time": "2018-12-13T21:39:41.408183Z"
    },
    "colab": {
     "base_uri": "https://localhost:8080/",
     "height": 204
    },
    "colab_type": "code",
    "id": "K37dGt1HFsz5",
    "outputId": "35653ad8-d49d-4b89-b34c-ab4f021452be"
   },
   "outputs": [],
   "source": [
    "#Most common amount of upvotes received for Russian Trolls\n",
    "print(Russians.score.value_counts()[:10])\n",
    "\n"
   ]
  },
  {
   "cell_type": "code",
   "execution_count": null,
   "metadata": {
    "ExecuteTime": {
     "end_time": "2018-12-13T21:39:41.502581Z",
     "start_time": "2018-12-13T21:39:41.491370Z"
    },
    "colab": {
     "base_uri": "https://localhost:8080/",
     "height": 238
    },
    "colab_type": "code",
    "id": "hh6Y1pmhBLHf",
    "outputId": "247e3782-63ed-4102-9b75-f8b2981ba373"
   },
   "outputs": [],
   "source": [
    "#Most common amount of upvotes received for regular users\n",
    "print(Non_Russians_Sample.score.value_counts()[:10])"
   ]
  },
  {
   "cell_type": "code",
   "execution_count": null,
   "metadata": {
    "ExecuteTime": {
     "end_time": "2018-12-13T21:39:41.597644Z",
     "start_time": "2018-12-13T21:39:41.589667Z"
    },
    "colab": {
     "base_uri": "https://localhost:8080/",
     "height": 51
    },
    "colab_type": "code",
    "id": "11A3TFrNF1Zu",
    "outputId": "30da17ca-7b1b-46ea-cfd1-43c999e29894"
   },
   "outputs": [],
   "source": [
    "#What is the mean amount of upvotes received?\n",
    "print(\"The mean number of upvotes received for regular users was was {}\".format\n",
    "     (np.mean(Non_Russians_Sample.score)))\n",
    "\n",
    "print(\"The mean number of upvotes received for Trolls was {}\".format\n",
    "     ((np.mean(Russians.score))))\n"
   ]
  },
  {
   "cell_type": "code",
   "execution_count": null,
   "metadata": {
    "ExecuteTime": {
     "end_time": "2018-12-13T21:39:41.651201Z",
     "start_time": "2018-12-13T21:39:41.644173Z"
    },
    "colab": {
     "base_uri": "https://localhost:8080/",
     "height": 34
    },
    "colab_type": "code",
    "id": "EJ6FADWxI8TS",
    "outputId": "f12467be-82dc-4ccc-9cfb-c0cfeb065d06"
   },
   "outputs": [],
   "source": [
    "#100th percentile of upvotes for regular users\n",
    "print(np.percentile(Non_Russians_Sample.score.dropna(),100))"
   ]
  },
  {
   "cell_type": "code",
   "execution_count": null,
   "metadata": {
    "ExecuteTime": {
     "end_time": "2018-12-13T21:39:41.730991Z",
     "start_time": "2018-12-13T21:39:41.724781Z"
    },
    "colab": {
     "base_uri": "https://localhost:8080/",
     "height": 34
    },
    "colab_type": "code",
    "id": "LXk6PfDmJAwc",
    "outputId": "ca1e92ff-21c1-4380-a879-64b5e88aec66"
   },
   "outputs": [],
   "source": [
    "#100th percentile of upvotes for trolls\n",
    "print(np.percentile(Russians.score.dropna(),100))"
   ]
  },
  {
   "cell_type": "code",
   "execution_count": null,
   "metadata": {
    "ExecuteTime": {
     "end_time": "2018-12-13T21:39:41.827161Z",
     "start_time": "2018-12-13T21:39:41.810467Z"
    },
    "colab": {
     "base_uri": "https://localhost:8080/",
     "height": 34
    },
    "colab_type": "code",
    "id": "GlRrQg32Kp4f",
    "outputId": "a2701bcb-80b5-42ba-e1a3-8e82af89944a"
   },
   "outputs": [],
   "source": [
    "#Binning comments by number of upvotes for Non_Russians\n",
    "bins=[-10,0,10,100,500,1000]#Bins\n",
    "digitized=np.digitize(Non_Russians_Sample.score, bins)\n",
    "bin_means=[Non_Russians_Sample.score[digitized == i].mean() for i in range(0, len(bins))]\n",
    "print(bin_means) #mean upvotes in every binned group"
   ]
  },
  {
   "cell_type": "code",
   "execution_count": null,
   "metadata": {
    "ExecuteTime": {
     "end_time": "2018-12-13T21:39:42.237290Z",
     "start_time": "2018-12-13T21:39:41.896721Z"
    },
    "colab": {
     "base_uri": "https://localhost:8080/",
     "height": 465
    },
    "colab_type": "code",
    "id": "Pfm6GtSpLcQn",
    "outputId": "75f48954-7413-4bcb-c238-a7d0bd656941"
   },
   "outputs": [],
   "source": [
    "#Visualizing the distribution of bins\n",
    "ax=sns.countplot(digitized)\n",
    "ax.set(xlabel='bin', ylabel='Number of comments',title=\"Distributions of Upvotes for Non_Russian Comments\")"
   ]
  },
  {
   "cell_type": "code",
   "execution_count": null,
   "metadata": {
    "ExecuteTime": {
     "end_time": "2018-12-13T21:39:42.252857Z",
     "start_time": "2018-12-13T21:39:42.240682Z"
    },
    "colab": {},
    "colab_type": "code",
    "id": "kHRz2h5XLddM"
   },
   "outputs": [],
   "source": [
    "#Binning comments by number of upvotes for Russians\n",
    "bins = [-10,0,10,100,500,1000]\n",
    "digitized = np.digitize(Russians.score, bins)\n",
    "bin_means = [Russians.score[digitized == i].mean() for i in range(0, len(bins))]\n"
   ]
  },
  {
   "cell_type": "code",
   "execution_count": null,
   "metadata": {
    "ExecuteTime": {
     "end_time": "2018-12-13T21:39:42.590613Z",
     "start_time": "2018-12-13T21:39:42.256358Z"
    },
    "colab": {
     "base_uri": "https://localhost:8080/",
     "height": 465
    },
    "colab_type": "code",
    "id": "Ssjb5JSALza5",
    "outputId": "8ae280e3-8d8c-41b6-fe1a-cf234dab3c45"
   },
   "outputs": [],
   "source": [
    "ax=sns.countplot(digitized)\n",
    "ax.set(xlabel='bin', ylabel='Number of comments',title=\"Distributions of Upvotes for Russian Comments\")"
   ]
  },
  {
   "cell_type": "markdown",
   "metadata": {
    "colab_type": "text",
    "id": "mg9GqE0DhLTO"
   },
   "source": [
    "# EDA Time"
   ]
  },
  {
   "cell_type": "code",
   "execution_count": null,
   "metadata": {
    "ExecuteTime": {
     "end_time": "2018-12-13T21:39:42.858676Z",
     "start_time": "2018-12-13T21:39:42.593449Z"
    },
    "colab": {},
    "colab_type": "code",
    "id": "XVZ_9uQ2gaXD"
   },
   "outputs": [],
   "source": [
    "#converting utc to datetime\n",
    "Russians[\"date\"] = pd.to_datetime(Russians['created_utc'],unit='s')\n",
    "Non_Russians_Sample[\"date\"] = pd.to_datetime(Non_Russians_Sample['created_utc'],unit='s')"
   ]
  },
  {
   "cell_type": "code",
   "execution_count": null,
   "metadata": {
    "ExecuteTime": {
     "end_time": "2018-12-13T21:39:42.880532Z",
     "start_time": "2018-12-13T21:39:42.862097Z"
    },
    "colab": {},
    "colab_type": "code",
    "id": "FwiWaVKWhUKY"
   },
   "outputs": [],
   "source": [
    "#Converting utic to datetime\n",
    "Russians[\"Time\"]=Russians[\"date\"].dt.hour.dropna()\n",
    "Non_Russians_Sample[\"Time\"]=Non_Russians_Sample[\"date\"].dt.hour.dropna()\n"
   ]
  },
  {
   "cell_type": "code",
   "execution_count": null,
   "metadata": {
    "ExecuteTime": {
     "end_time": "2018-12-13T21:39:43.438626Z",
     "start_time": "2018-12-13T21:39:42.884449Z"
    },
    "colab": {
     "base_uri": "https://localhost:8080/",
     "height": 465
    },
    "colab_type": "code",
    "id": "W3qcqZyHhVj1",
    "outputId": "4872b816-a725-4c3b-87a1-dece4fa8edc2"
   },
   "outputs": [],
   "source": [
    "ax=sns.countplot(Non_Russians_Sample.Time)\n",
    "ax.set(title=\"Distribution of times that comments were posted\",xlabel=\"time\",ylabel=\"Count\")"
   ]
  },
  {
   "cell_type": "code",
   "execution_count": null,
   "metadata": {
    "ExecuteTime": {
     "end_time": "2018-12-13T21:39:43.990763Z",
     "start_time": "2018-12-13T21:39:43.442165Z"
    },
    "colab": {
     "base_uri": "https://localhost:8080/",
     "height": 465
    },
    "colab_type": "code",
    "id": "x51ZmAGYiyy8",
    "outputId": "fbe10012-8ea9-4e1f-98bc-75ab4cd98b0d"
   },
   "outputs": [],
   "source": [
    "ax=sns.countplot(Russians.Time)\n",
    "ax.set(title=\"Distribution of times that comments were posted for Russians\",xlabel=\"time\",ylabel=\"Count\")"
   ]
  },
  {
   "cell_type": "code",
   "execution_count": null,
   "metadata": {
    "ExecuteTime": {
     "end_time": "2018-12-13T21:39:44.010085Z",
     "start_time": "2018-12-13T21:39:43.995373Z"
    },
    "colab": {
     "base_uri": "https://localhost:8080/",
     "height": 34
    },
    "colab_type": "code",
    "id": "e_Hrw2XO0kTz",
    "outputId": "078e3f52-afab-4620-a36c-6ef1121510d2"
   },
   "outputs": [],
   "source": [
    "#Checking to see if Distributions of Time Posted is statistically significant\n",
    "stats.ks_2samp(Russians.Time, Non_Russians_Sample.Time)"
   ]
  },
  {
   "cell_type": "code",
   "execution_count": null,
   "metadata": {
    "ExecuteTime": {
     "end_time": "2018-12-13T21:39:44.067316Z",
     "start_time": "2018-12-13T21:39:44.014008Z"
    },
    "colab": {
     "base_uri": "https://localhost:8080/",
     "height": 884
    },
    "colab_type": "code",
    "id": "Bt-kAPFtnj5l",
    "outputId": "2939f98f-7f55-4033-ce72-cc2ce15a4e59"
   },
   "outputs": [],
   "source": [
    "#Dates with the most comments by Russian Trolls\n",
    "Russians[\"date\"].dt.date.value_counts()[:50]"
   ]
  },
  {
   "cell_type": "code",
   "execution_count": null,
   "metadata": {
    "ExecuteTime": {
     "end_time": "2018-12-13T21:39:44.126238Z",
     "start_time": "2018-12-13T21:39:44.078847Z"
    },
    "colab": {
     "base_uri": "https://localhost:8080/",
     "height": 374
    },
    "colab_type": "code",
    "id": "mVpGwkArnXzP",
    "outputId": "68f724cb-a379-4c17-bdf5-9842c8162d70"
   },
   "outputs": [],
   "source": [
    "#Dates with the most comments by regular Reddit Users\n",
    "Non_Russians_Sample[\"date\"].dt.date.value_counts()[:20]"
   ]
  },
  {
   "cell_type": "markdown",
   "metadata": {
    "colab_type": "text",
    "id": "hEhyCN9fJ9jk"
   },
   "source": [
    "Extracting Named Entities"
   ]
  },
  {
   "cell_type": "code",
   "execution_count": null,
   "metadata": {
    "ExecuteTime": {
     "end_time": "2018-12-13T22:10:33.314893Z",
     "start_time": "2018-12-13T22:10:33.132444Z"
    }
   },
   "outputs": [],
   "source": [
    "!pip install msgpack-python==0.5.6\n"
   ]
  },
  {
   "cell_type": "code",
   "execution_count": null,
   "metadata": {
    "ExecuteTime": {
     "end_time": "2018-12-13T22:09:30.203334Z",
     "start_time": "2018-12-13T22:09:29.685219Z"
    },
    "colab": {},
    "colab_type": "code",
    "id": "38WXvyUKKA95"
   },
   "outputs": [],
   "source": [
    "#Loading \n",
    "\n",
    "nlp = spacy.load('en')"
   ]
  },
  {
   "cell_type": "code",
   "execution_count": null,
   "metadata": {
    "ExecuteTime": {
     "end_time": "2018-12-13T21:52:46.224591Z",
     "start_time": "2018-12-13T21:52:46.220372Z"
    }
   },
   "outputs": [],
   "source": [
    "import msgpack"
   ]
  },
  {
   "cell_type": "code",
   "execution_count": null,
   "metadata": {
    "ExecuteTime": {
     "end_time": "2018-12-13T21:39:44.990761Z",
     "start_time": "2018-12-13T21:39:43.028Z"
    },
    "colab": {},
    "colab_type": "code",
    "id": "67hfqXy4UFgF"
   },
   "outputs": [],
   "source": [
    "\n",
    "#cleaning up both datasets\n",
    "Russians.body=Russians.body.str.replace(\"(\\r)|(\\n)\",\"\")\n",
    "Non_Russians_Sample.body=Non_Russians_Sample.body.str.replace(\"(\\r)|(\\n)\",\"\")"
   ]
  },
  {
   "cell_type": "code",
   "execution_count": null,
   "metadata": {
    "ExecuteTime": {
     "end_time": "2018-12-13T21:39:44.994345Z",
     "start_time": "2018-12-13T21:39:43.159Z"
    },
    "colab": {},
    "colab_type": "code",
    "id": "QMZbig3mLGn_"
   },
   "outputs": [],
   "source": [
    "def named_entities(x):\n",
    "    \"\"\"This Function Extracts Named Entities\"\"\"\n",
    "    doc=nlp(x)\n",
    "    named_=[]\n",
    "    for doc in doc.ents:\n",
    "        if doc == None:\n",
    "            return named_\n",
    "        else:\n",
    "            named_.append(doc)\n",
    "    return named_"
   ]
  },
  {
   "cell_type": "code",
   "execution_count": null,
   "metadata": {
    "ExecuteTime": {
     "end_time": "2018-12-13T21:39:44.995918Z",
     "start_time": "2018-12-13T21:39:43.218Z"
    },
    "colab": {},
    "colab_type": "code",
    "id": "__DdnxmZKkyw"
   },
   "outputs": [],
   "source": [
    "#Applying function\n",
    "Non_Russians_Sample[\"Named_entities\"]=Non_Russians_Sample.body.apply(func=lambda x: named_entities(x))"
   ]
  },
  {
   "cell_type": "code",
   "execution_count": null,
   "metadata": {
    "ExecuteTime": {
     "end_time": "2018-12-13T21:39:44.997246Z",
     "start_time": "2018-12-13T21:39:43.279Z"
    },
    "colab": {},
    "colab_type": "code",
    "id": "19vIoi0IMq-9"
   },
   "outputs": [],
   "source": [
    "#Applying function\n",
    "Russians[\"Named_entities\"]=Russians.body.apply(func=lambda x: named_entities(x))"
   ]
  },
  {
   "cell_type": "code",
   "execution_count": null,
   "metadata": {
    "ExecuteTime": {
     "end_time": "2018-12-13T21:39:44.998744Z",
     "start_time": "2018-12-13T21:39:43.337Z"
    },
    "colab": {},
    "colab_type": "code",
    "id": "ee2NPYRfRMlt"
   },
   "outputs": [],
   "source": [
    "def get_polarity(x):\n",
    "  \"\"\"This Function calculates polarity for every comment.\"\"\"\n",
    "  b = TextBlob(x)\n",
    "  return b.sentiment.polarity"
   ]
  },
  {
   "cell_type": "code",
   "execution_count": null,
   "metadata": {
    "colab": {
     "base_uri": "https://localhost:8080/",
     "height": 34
    },
    "colab_type": "code",
    "id": "FRji5PORRY10",
    "outputId": "7e81d35c-cacb-4bea-9265-506960a6bc0f"
   },
   "outputs": [],
   "source": [
    "#Getting the polarity of Non_Russian comments\n",
    "Non_Russians_Sample[\"Polarity\"]=Non_Russians_Sample.body.apply(func=lambda x: get_polarity(x))\n",
    "np.mean(Non_Russians_Sample[\"Polarity\"])"
   ]
  },
  {
   "cell_type": "code",
   "execution_count": null,
   "metadata": {
    "colab": {
     "base_uri": "https://localhost:8080/",
     "height": 34
    },
    "colab_type": "code",
    "id": "Q0vnLcXWR3z4",
    "outputId": "557f6364-5e74-4838-dcba-a9ccf2cddc94"
   },
   "outputs": [],
   "source": [
    "#Getting the Polarity of Russian comments\n",
    "Russians[\"Polarity\"]=Russians.body.apply(func=lambda x: get_polarity(x))\n",
    "np.mean(Russians[\"Polarity\"])"
   ]
  },
  {
   "cell_type": "markdown",
   "metadata": {
    "colab_type": "text",
    "id": "qsrPGO4dyFFe"
   },
   "source": [
    "Flesch-Kinkaid"
   ]
  },
  {
   "cell_type": "code",
   "execution_count": null,
   "metadata": {
    "colab": {
     "base_uri": "https://localhost:8080/",
     "height": 34
    },
    "colab_type": "code",
    "id": "WdwYplQSyKYk",
    "outputId": "2c23aba3-f19e-4bf5-a309-07e25a3639c9"
   },
   "outputs": [],
   "source": [
    "#Average Flesch Kincaid For Trolls\n",
    "Russians[\"Flesch_Kincaid\"]=Russians.body.apply(func=lambda x: textstat.flesch_kincaid_grade(x))\n",
    "np.mean(Russians[\"Flesch_Kincaid\"])"
   ]
  },
  {
   "cell_type": "code",
   "execution_count": null,
   "metadata": {
    "colab": {
     "base_uri": "https://localhost:8080/",
     "height": 34
    },
    "colab_type": "code",
    "id": "1yGprpGeyrH4",
    "outputId": "89a750f2-0bb2-45b2-cebb-3bec90474a06"
   },
   "outputs": [],
   "source": [
    "#Average Flesch Kincaid for Regular Users\n",
    "Non_Russians_Sample[\"Flesch_Kincaid\"]=Non_Russians_Sample.body.apply(func=lambda x: textstat.flesch_kincaid_grade(x))\n",
    "np.mean(Non_Russians_Sample[\"Flesch_Kincaid\"])"
   ]
  },
  {
   "cell_type": "markdown",
   "metadata": {
    "colab_type": "text",
    "id": "PBMPXvj35jEq"
   },
   "source": [
    "# Controversiality"
   ]
  },
  {
   "cell_type": "code",
   "execution_count": null,
   "metadata": {
    "colab": {
     "base_uri": "https://localhost:8080/",
     "height": 68
    },
    "colab_type": "code",
    "id": "BPS2BBnT6sZ9",
    "outputId": "639d7c97-2f0a-400b-e1e1-14d7bd3a78d3"
   },
   "outputs": [],
   "source": [
    "#Number of Russian Comments that were marked as controversial\n",
    "Russians.controversiality.value_counts()"
   ]
  },
  {
   "cell_type": "code",
   "execution_count": null,
   "metadata": {
    "colab": {
     "base_uri": "https://localhost:8080/",
     "height": 68
    },
    "colab_type": "code",
    "id": "tPhZkj-s61oW",
    "outputId": "5255c227-a5db-411f-8db3-c6068ea5d9e7"
   },
   "outputs": [],
   "source": [
    "#Number of Non-Russian Samples marked as controversial\n",
    "Non_Russians_Sample.controversiality.value_counts()"
   ]
  },
  {
   "cell_type": "markdown",
   "metadata": {
    "colab_type": "text",
    "id": "ZWqG_bJ16Ffu"
   },
   "source": [
    "# Lexical Categories"
   ]
  },
  {
   "cell_type": "code",
   "execution_count": null,
   "metadata": {
    "colab": {},
    "colab_type": "code",
    "id": "sA0dgUp16TXt"
   },
   "outputs": [],
   "source": [
    "#initializing Lexicon\n",
    "lexicon = Empath()"
   ]
  },
  {
   "cell_type": "code",
   "execution_count": null,
   "metadata": {
    "colab": {
     "base_uri": "https://localhost:8080/",
     "height": 122
    },
    "colab_type": "code",
    "id": "4slaFIZCG1O_",
    "outputId": "1835e426-c8d4-4181-d2e7-5a6f763851db"
   },
   "outputs": [],
   "source": [
    "#Creating 5 lexical categories related to various subjects that I hypothesize Russian Trolls would be talking about\n",
    "lexicon.create_category(\"russia\",[\"russia\",\"putin\",\"moscow\",\"kremlin\",\"KGB\",\"ukraine\",\"russian\"],model=\"reddit\")\n",
    "lexicon.create_category(\"social_media\",[\"fake_news\",\"twitter_bot\",\"social_media\"],model=\"reddit\")\n",
    "lexicon.create_category(\"trump\",[\"donald_trump\",\"POTUS\",\"michael_flynn\",\"russian_collusion\",\"mueller_investigation\",\"putin\"],model=\"reddit\")\n",
    "lexicon.create_category(\"FBI\",[\"FBI\",\"investigation\",\"robert\",\"comey\",\"flynn\"],model=\"reddit\")\n",
    "lexicon.create_category(\"hilary\",[\"DNC\",\"emails\",\"bernie\"],model=\"reddit\")"
   ]
  },
  {
   "cell_type": "code",
   "execution_count": null,
   "metadata": {
    "colab": {},
    "colab_type": "code",
    "id": "EnpGiNqIH0_8"
   },
   "outputs": [],
   "source": [
    "def Lexical_Score(x):\n",
    "    \"\"\"This Function looks at every comment and gives it a lexical score depending \n",
    "    on the context of the sentence\"\"\"\n",
    "    c=0\n",
    "    analyze=lexicon.analyze(x,categories=['russia,social_media',\"trump\",\"FBI\",\"hilary\"],normalize=True)\n",
    "    attrs=[w for k,w in analyze.items() if w >0]\n",
    "    if len(attrs)>0:\n",
    "        for attr in attrs:\n",
    "            c+=attr\n",
    "    return c"
   ]
  },
  {
   "cell_type": "code",
   "execution_count": null,
   "metadata": {
    "colab": {},
    "colab_type": "code",
    "id": "Bx6mvhKuH_pt"
   },
   "outputs": [],
   "source": [
    "Russians[\"Lexical_Score\"]=Russians.body.apply(func=lambda x:Lexical_Score(x))"
   ]
  },
  {
   "cell_type": "code",
   "execution_count": null,
   "metadata": {
    "colab": {},
    "colab_type": "code",
    "id": "0DSgKufUifLd"
   },
   "outputs": [],
   "source": [
    "Non_Russians_Sample[\"Lexical_Score\"]=Non_Russians_Sample.body.apply(func=lambda x:Lexical_Score(x))"
   ]
  },
  {
   "cell_type": "markdown",
   "metadata": {
    "colab_type": "text",
    "id": "H-MPz7D-serU"
   },
   "source": [
    "# Adding Other word based features"
   ]
  },
  {
   "cell_type": "code",
   "execution_count": null,
   "metadata": {
    "colab": {},
    "colab_type": "code",
    "id": "zeL6KDfrsh4G"
   },
   "outputs": [],
   "source": [
    "#word count\n",
    "Russians['word_count']=Russians['body'].apply(lambda x: len(x.split()))\n",
    "Non_Russians_Sample['word_count']=Non_Russians_Sample['body'].apply(lambda x: len(x.split()))"
   ]
  },
  {
   "cell_type": "code",
   "execution_count": null,
   "metadata": {
    "colab": {},
    "colab_type": "code",
    "id": "k3jPtdDBs1PG"
   },
   "outputs": [],
   "source": [
    "#Punctuation Count\n",
    "Russians['punctuation_count']=Russians['body'].apply(lambda x: len(\"\".join(punc for punc in x if punc in string.punctuation))) \n",
    "Non_Russians_Sample['punctuation_count']=Non_Russians_Sample['body'].apply(lambda x: len(\"\".join(punc for punc in x if punc in string.punctuation))) "
   ]
  },
  {
   "cell_type": "code",
   "execution_count": null,
   "metadata": {
    "colab": {},
    "colab_type": "code",
    "id": "IkKMz_Ldt6jV"
   },
   "outputs": [],
   "source": [
    "#Number of Capital Words\n",
    "Russians['upper_case_word_count'] = Russians.body.apply(lambda x: len([word for word in x.split() if word.isupper()]))\n",
    "Non_Russians_Sample['upper_case_word_count'] = Non_Russians_Sample.body.apply(lambda x: len([word for word in x.split() if word.isupper()]))"
   ]
  },
  {
   "cell_type": "markdown",
   "metadata": {
    "colab_type": "text",
    "id": "m10ubIw4ORbR"
   },
   "source": [
    "# Checking if Comments appear on significant dates"
   ]
  },
  {
   "cell_type": "code",
   "execution_count": null,
   "metadata": {
    "colab": {},
    "colab_type": "code",
    "id": "A6OEzhV0u2kX"
   },
   "outputs": [],
   "source": [
    "#Reading in the russia timeline sheet\n",
    "Russia_Timeline=pd.read_excel(\"Russia_Timeline.xlsx\",header=1)"
   ]
  },
  {
   "cell_type": "code",
   "execution_count": null,
   "metadata": {
    "colab": {},
    "colab_type": "code",
    "id": "xDfH6m5_vmsZ"
   },
   "outputs": [],
   "source": [
    "#Cleaning up excel spreadsheet\n",
    "years=[2014,2015,2016,2017]\n",
    "Filtered_Timeline=Russia_Timeline[Russia_Timeline.DATE.isin(years)]\n",
    "twenty_eight=Russia_Timeline[Russia_Timeline.DATE.isin([2018])]"
   ]
  },
  {
   "cell_type": "code",
   "execution_count": null,
   "metadata": {
    "colab": {},
    "colab_type": "code",
    "id": "tdoPfNYUvrz-"
   },
   "outputs": [],
   "source": [
    "#Extracting day\n",
    "Russians[\"Day\"]=Russians.date.dt.date\n",
    "Non_Russians_Sample[\"Day\"]=Non_Russians_Sample.date.dt.date"
   ]
  },
  {
   "cell_type": "code",
   "execution_count": null,
   "metadata": {
    "colab": {},
    "colab_type": "code",
    "id": "ss7JhhcdxPm9"
   },
   "outputs": [],
   "source": [
    "#Combining dates in excel spreadsheet\n",
    "combined_dates=Filtered_Timeline[\"DATE\"].astype(str)+\" \"+ Filtered_Timeline['Unnamed: 1'].astype(str)"
   ]
  },
  {
   "cell_type": "code",
   "execution_count": null,
   "metadata": {
    "colab": {
     "base_uri": "https://localhost:8080/",
     "height": 119
    },
    "colab_type": "code",
    "id": "Wqlj_K0D0cCK",
    "outputId": "9d1f53ac-4d1f-4f2c-c099-d7a488d9d12b"
   },
   "outputs": [],
   "source": [
    "#Cleaning up dates\n",
    "twenty_eight['Unnamed: 1']=twenty_eight['Unnamed: 1'].astype(str)\n",
    "twenty_eight=twenty_eight['Unnamed: 1'].str.replace(\"(00:00:00)\",\"\")"
   ]
  },
  {
   "cell_type": "code",
   "execution_count": null,
   "metadata": {
    "colab": {},
    "colab_type": "code",
    "id": "pL6auJR4zB1p"
   },
   "outputs": [],
   "source": [
    "#Recombining dates\n",
    "other=pd.to_datetime(combined_dates[combined_dates.str.contains(\"\\w+ \\w+ \\d+\")],errors=\"coerce\")\n",
    "all_together=other.append(twenty_eight)"
   ]
  },
  {
   "cell_type": "code",
   "execution_count": null,
   "metadata": {
    "colab": {},
    "colab_type": "code",
    "id": "Z8jLoRD5xa67"
   },
   "outputs": [],
   "source": [
    "#dropping N/A rows\n",
    "all_together.dropna(inplace=True)"
   ]
  },
  {
   "cell_type": "code",
   "execution_count": null,
   "metadata": {
    "colab": {},
    "colab_type": "code",
    "id": "A2Wot_Rm3m-z"
   },
   "outputs": [],
   "source": [
    "relevant_dates=pd.to_datetime(all_together.astype(str).str.replace(\"(00:00:00)\",\"\"),errors=\"coerce\")"
   ]
  },
  {
   "cell_type": "code",
   "execution_count": null,
   "metadata": {
    "colab": {},
    "colab_type": "code",
    "id": "nfeXyiw53-1i"
   },
   "outputs": [],
   "source": [
    "def date_it(x):\n",
    "    \"\"\" If a comment takes place on a relevant date return 1\n",
    "     Otherwise return 0\"\"\"\n",
    "    if x in list(relevant_dates):\n",
    "        return 1\n",
    "    else:\n",
    "        return 0"
   ]
  },
  {
   "cell_type": "code",
   "execution_count": null,
   "metadata": {
    "colab": {},
    "colab_type": "code",
    "id": "MQJYMWCH6Moz"
   },
   "outputs": [],
   "source": [
    "#Applying function\n",
    "relevant_dates=relevant_dates.astype(str)\n",
    "Russians[\"Day\"]=Russians.Day.astype(str) + \" \" + \"00:00:00\"\n",
    "Russians[\"Relevant_Date\"]=Russians.Day.apply(lambda x: date_it(x))\n",
    "Non_Russians_Sample[\"Day\"]=Non_Russians_Sample.Day.astype(str) + \" \" + \"00:00:00\"\n",
    "Non_Russians_Sample[\"Relevant_Date\"]=Non_Russians_Sample.Day.apply(lambda x: date_it(x))"
   ]
  },
  {
   "cell_type": "code",
   "execution_count": null,
   "metadata": {
    "colab": {},
    "colab_type": "code",
    "id": "vFPMUH6MMoq_"
   },
   "outputs": [],
   "source": [
    "#Filtering dfs for columns I think are meaningful\n",
    "Non_Russians_Sample=Non_Russians_Sample[[\"Time\",\"Named_entities\",\"Polarity\",\n",
    "                     \"Flesch_Kincaid\",\"Lexical_Score\",\"word_count\",\"punctuation_count\",\n",
    "                     \"upper_case_word_count\",\"Relevant_Date\"]]\n",
    "Russians=Russians[[\"Time\",\"Named_entities\",\"Polarity\",\n",
    "                     \"Flesch_Kincaid\",\"Lexical_Score\",\"word_count\",\"punctuation_count\",\n",
    "                     \"upper_case_word_count\",\"Relevant_Date\"]]\n"
   ]
  },
  {
   "cell_type": "code",
   "execution_count": null,
   "metadata": {
    "colab": {},
    "colab_type": "code",
    "id": "zJ0h4QydOBKj"
   },
   "outputs": [],
   "source": [
    "#Adding Labels\n",
    "Non_Russians_Sample[\"Label\"]=[\"0\" for x in range(len(Non_Russians_Sample))]\n",
    "Russians[\"Label\"]=[\"1\" for x in range(len(Non_Russians_Sample))]"
   ]
  },
  {
   "cell_type": "code",
   "execution_count": null,
   "metadata": {
    "colab": {},
    "colab_type": "code",
    "id": "g25Jqs5sOe_4"
   },
   "outputs": [],
   "source": [
    "#Appending both dataframes\n",
    "total=Non_Russians_Sample.append(Russians)"
   ]
  },
  {
   "cell_type": "code",
   "execution_count": null,
   "metadata": {
    "colab": {},
    "colab_type": "code",
    "id": "XcoGYpsgOqrj"
   },
   "outputs": [],
   "source": [
    "#Counting total number of named entities for every comment\n",
    "total[\"Named_entities\"]=total.Named_entities.apply(lambda x:len(x))"
   ]
  },
  {
   "cell_type": "markdown",
   "metadata": {
    "colab_type": "text",
    "id": "z06Aj_uh1w47"
   },
   "source": [
    "# Baseline Test"
   ]
  },
  {
   "cell_type": "code",
   "execution_count": null,
   "metadata": {
    "colab": {},
    "colab_type": "code",
    "id": "IHPtsuL7Ogs8"
   },
   "outputs": [],
   "source": [
    "#Adding a to signify russian or non-russian\n",
    "Russians[\"Troll_Status\"]=[\"Russian\" for x in range(len(Russians))]\n",
    "Non_Russians_Sample[\"Troll_Status\"]=[\"Non-Russian\" for x in range(len(Russians))]\n",
    "appended=np.array(Non_Russians_Sample.append(Russians)[\"Troll_Status\"])"
   ]
  },
  {
   "cell_type": "code",
   "execution_count": null,
   "metadata": {
    "colab": {},
    "colab_type": "code",
    "id": "HufkYcEVQAe2"
   },
   "outputs": [],
   "source": [
    "#Creating a list with random values of russians and non-russians\n",
    "actual=list(pd.Series(appended))\n",
    "troll=[\"Russian\" for x in range(len(Russians))]\n",
    "not_troll=[\"Non-Russian\" for x in range(len(Russians))]\n",
    "combined=troll+not_troll"
   ]
  },
  {
   "cell_type": "code",
   "execution_count": null,
   "metadata": {
    "colab": {},
    "colab_type": "code",
    "id": "RKPGjPf_Rrzl"
   },
   "outputs": [],
   "source": [
    "\n",
    "shuffle(combined)\n",
    "shuffle(appended)"
   ]
  },
  {
   "cell_type": "code",
   "execution_count": null,
   "metadata": {
    "colab": {
     "base_uri": "https://localhost:8080/",
     "height": 34
    },
    "colab_type": "code",
    "id": "k5mIKF0xQpbG",
    "outputId": "79dba27a-6e5d-4fe9-c99f-f1384bbbc198"
   },
   "outputs": [],
   "source": [
    "#Calculating Accuracy\n",
    "x=0\n",
    "for label in range(len(actual)):\n",
    "    if actual[label]==combined[label]:\n",
    "        x+=1\n",
    "print(x/len(combined)*100)"
   ]
  },
  {
   "cell_type": "code",
   "execution_count": null,
   "metadata": {
    "colab": {},
    "colab_type": "code",
    "id": "JqkeEpOGUiw7"
   },
   "outputs": [],
   "source": [
    "#Random Predictions\n",
    "actual_converted=[]\n",
    "test=[]\n",
    "for label in actual:\n",
    "  if label==\"Non-Russian\":\n",
    "    actual_converted.append(0)\n",
    "  else:\n",
    "    actual_converted.append(1)\n",
    "for label in combined:\n",
    "  if label==\"Non-Russian\":\n",
    "    test.append(0)\n",
    "\n",
    "  else:\n",
    "    test.append(1)"
   ]
  },
  {
   "cell_type": "code",
   "execution_count": null,
   "metadata": {
    "colab": {
     "base_uri": "https://localhost:8080/",
     "height": 34
    },
    "colab_type": "code",
    "id": "WD-UsEdCVepS",
    "outputId": "0f4c7a37-ad32-4532-9b52-6d72e5d1e946"
   },
   "outputs": [],
   "source": [
    "#Calculating Recall\n",
    "metrics.recall_score(actual_converted,test)"
   ]
  },
  {
   "cell_type": "code",
   "execution_count": null,
   "metadata": {
    "colab": {
     "base_uri": "https://localhost:8080/",
     "height": 34
    },
    "colab_type": "code",
    "id": "N8rWJYiNWyLJ",
    "outputId": "3bd05e55-74f6-4c60-d8c9-07640f895453"
   },
   "outputs": [],
   "source": [
    "#Calculating AUC\n",
    "metrics.roc_auc_score(actual_converted,test)"
   ]
  },
  {
   "cell_type": "markdown",
   "metadata": {
    "colab_type": "text",
    "id": "zmQDC24-YcgC"
   },
   "source": [
    "# Using Machine Learning for Predictions"
   ]
  },
  {
   "cell_type": "code",
   "execution_count": null,
   "metadata": {
    "colab": {},
    "colab_type": "code",
    "id": "HQ1UnbolYkad"
   },
   "outputs": [],
   "source": [
    "#Creating a new index\n",
    "total.index=list(range(len(total)))\n"
   ]
  },
  {
   "cell_type": "code",
   "execution_count": null,
   "metadata": {
    "colab": {},
    "colab_type": "code",
    "id": "loJb5gHibb78"
   },
   "outputs": [],
   "source": [
    "#Randomly Shuffling rows\n",
    "shuffled_rows=total.reindex(np.random.permutation(total.index))"
   ]
  },
  {
   "cell_type": "code",
   "execution_count": null,
   "metadata": {
    "colab": {},
    "colab_type": "code",
    "id": "HKLu_cPyeBB7"
   },
   "outputs": [],
   "source": [
    "#Dropping rows with N/A\n",
    "shuffled_rows.dropna(inplace=True)"
   ]
  },
  {
   "cell_type": "code",
   "execution_count": null,
   "metadata": {
    "colab": {},
    "colab_type": "code",
    "id": "ivOfBy6KcgqF"
   },
   "outputs": [],
   "source": [
    "\n",
    "X=shuffled_rows.iloc[:,:-1]#Independent Variables\n",
    "y=shuffled_rows.iloc[:,-1]#Value I want to predict"
   ]
  },
  {
   "cell_type": "code",
   "execution_count": null,
   "metadata": {
    "colab": {
     "base_uri": "https://localhost:8080/",
     "height": 517
    },
    "colab_type": "code",
    "id": "8p9REzXcE7wj",
    "outputId": "075f8e2f-0ac6-47b4-8488-70c0d0800bcd"
   },
   "outputs": [],
   "source": [
    "f, ax = plt.subplots(figsize=(10, 6))\n",
    "corr = X.corr()\n",
    "hm = sns.heatmap(round(corr,2), annot=True, ax=ax, cmap=\"coolwarm\",fmt='.2f',\n",
    "                 linewidths=.05)\n",
    "f.subplots_adjust(top=0.93)\n",
    "t= f.suptitle('Model Attributes Correlation Heatmap', fontsize=14)"
   ]
  },
  {
   "cell_type": "code",
   "execution_count": null,
   "metadata": {
    "colab": {},
    "colab_type": "code",
    "id": "LzHUBYpVcmAR"
   },
   "outputs": [],
   "source": [
    "#Train/Test Split\n",
    "X_train, X_test, y_train, y_test = train_test_split(X, y, test_size=0.2, random_state=0)  "
   ]
  },
  {
   "cell_type": "code",
   "execution_count": null,
   "metadata": {
    "colab": {},
    "colab_type": "code",
    "id": "fB8ZrTsactJC"
   },
   "outputs": [],
   "source": [
    "#Standardizing Data\n",
    "sc = StandardScaler()  \n",
    "X_train = sc.fit_transform(X_train)  \n",
    "X_test = sc.transform(X_test)  "
   ]
  },
  {
   "cell_type": "code",
   "execution_count": null,
   "metadata": {
    "colab": {},
    "colab_type": "code",
    "id": "zCnXlOGreWjL"
   },
   "outputs": [],
   "source": [
    "#Fitting a Random Forest Classifier\n",
    "Classifier = RandomForestClassifier(n_estimators=20, random_state=0)  \n",
    "Classifier.fit(X_train, y_train)  \n",
    "y_pred = Classifier.predict(X_test) "
   ]
  },
  {
   "cell_type": "code",
   "execution_count": null,
   "metadata": {},
   "outputs": [],
   "source": [
    "y_pred=y_pred.astype(int)\n",
    "y_test_int=y_test.astype(int)"
   ]
  },
  {
   "cell_type": "code",
   "execution_count": null,
   "metadata": {},
   "outputs": [],
   "source": [
    "#Calculating Recall\n",
    "metrics.recall_score(y_test_int,y_pred)"
   ]
  },
  {
   "cell_type": "code",
   "execution_count": null,
   "metadata": {},
   "outputs": [],
   "source": [
    "#Calculating auc\n",
    "metrics.roc_auc_score(y_test_int,y_pred)"
   ]
  },
  {
   "cell_type": "code",
   "execution_count": null,
   "metadata": {
    "colab": {},
    "colab_type": "code",
    "id": "ombWMGpm1ykG"
   },
   "outputs": [],
   "source": [
    "visualizer = ClassificationReport(RandomForestClassifier() ,cmap='BuPu',title=\"Normal Random Forest Parameters\",classes=[\"Non-Troll\",\"Troll\"], support=True)\n",
    "visualizer.fit(X_train, y_train)  # Fit the visualizer and the model\n",
    "visualizer.score(X_test, y_test)  # Evaluate the model on the test data\n",
    "g = visualizer.poof()             # Draw/show/poof the data"
   ]
  },
  {
   "cell_type": "code",
   "execution_count": null,
   "metadata": {
    "colab": {},
    "colab_type": "code",
    "id": "TsGJEd-ggIlN"
   },
   "outputs": [],
   "source": [
    "#Evaluation Metrics\n",
    "print(confusion_matrix(y_test,y_pred))  \n",
    "print(classification_report(y_test,y_pred))  \n",
    "print(accuracy_score(y_test, y_pred)) "
   ]
  },
  {
   "cell_type": "markdown",
   "metadata": {
    "colab_type": "text",
    "id": "RfVvO1KZUU_w"
   },
   "source": [
    "# Using Random Search CV to find optimal Parameters Code Partially Taken From: https://towardsdatascience.com/hyperparameter-tuning-the-random-forest-in-python-using-scikit-learn-28d2aa77dd74"
   ]
  },
  {
   "cell_type": "code",
   "execution_count": null,
   "metadata": {
    "colab": {},
    "colab_type": "code",
    "id": "TM_COGMgnqnB"
   },
   "outputs": [],
   "source": [
    "# Number of trees in random forest\n",
    "n_estimators = [int(x) for x in np.linspace(start = 200, stop = 2000, num = 10)]\n",
    "# Number of features to consider at every split\n",
    "max_features = ['auto', 'sqrt']\n",
    "# Maximum number of levels in tree\n",
    "max_depth = [int(x) for x in np.linspace(10, 110, num = 11)]\n",
    "max_depth.append(None)\n",
    "# Minimum number of samples required to split a node\n",
    "min_samples_split = [2, 5, 10]\n",
    "# Minimum number of samples required at each leaf node\n",
    "min_samples_leaf = [1, 2, 4]\n",
    "# Method of selecting samples for training each tree\n",
    "bootstrap = [True, False]\n"
   ]
  },
  {
   "cell_type": "code",
   "execution_count": null,
   "metadata": {
    "colab": {},
    "colab_type": "code",
    "id": "eb3b3v3Gnr5p"
   },
   "outputs": [],
   "source": [
    "# Create the random grid\n",
    "random_grid = {'n_estimators': n_estimators,\n",
    "               'max_features': max_features,\n",
    "               'max_depth': max_depth,\n",
    "               'min_samples_split': min_samples_split,\n",
    "               'min_samples_leaf': min_samples_leaf,\n",
    "               'bootstrap': bootstrap}"
   ]
  },
  {
   "cell_type": "code",
   "execution_count": null,
   "metadata": {
    "colab": {},
    "colab_type": "code",
    "id": "lfPV6C8ToQzQ"
   },
   "outputs": [],
   "source": [
    "#Initializing the classifier\n",
    "rf=RandomForestClassifier()"
   ]
  },
  {
   "cell_type": "code",
   "execution_count": null,
   "metadata": {
    "colab": {},
    "colab_type": "code",
    "id": "VeIpIQY3nvrw"
   },
   "outputs": [],
   "source": [
    "#Initally\n",
    "rf_random = RandomizedSearchCV(estimator = rf, param_distributions = random_grid, n_iter = 100, cv = 3, random_state=42, n_jobs = -1,\n",
    "                              scoring=\"accuracy\")"
   ]
  },
  {
   "cell_type": "code",
   "execution_count": null,
   "metadata": {
    "colab": {
     "base_uri": "https://localhost:8080/",
     "height": 10509
    },
    "colab_type": "code",
    "id": "TAJtY5nQoYPE",
    "outputId": "c1a87604-2a25-4c4b-a76f-1ccf0c360eb6"
   },
   "outputs": [],
   "source": [
    "#Fitting Randomized Search\n",
    "rf_random.fit(X_train, y_train)"
   ]
  },
  {
   "cell_type": "code",
   "execution_count": null,
   "metadata": {
    "colab": {
     "base_uri": "https://localhost:8080/",
     "height": 181
    },
    "colab_type": "code",
    "id": "AUfWUkYm1pDi",
    "outputId": "8a2cafcf-2802-4e93-9abb-dd9fa107cff3"
   },
   "outputs": [],
   "source": [
    "#Finding optimal parameters\n",
    "grid_params=rf_random.best_params_\n",
    "grid_params\n"
   ]
  },
  {
   "cell_type": "code",
   "execution_count": null,
   "metadata": {
    "colab": {
     "base_uri": "https://localhost:8080/",
     "height": 136
    },
    "colab_type": "code",
    "id": "WApMgH2-2H6_",
    "outputId": "3db3fb55-8a22-4fc7-9b7e-2fb6a453fbdd"
   },
   "outputs": [],
   "source": [
    "#initializing RF with parameters optimized\n",
    "classifier_optimized = RandomForestClassifier(bootstrap=True,max_depth=10,max_features=\"sqrt\",\n",
    "                                            min_samples_leaf=1, min_samples_split=5, n_estimators=2000) \n",
    "classifier_optimized.fit(X_train,y_train)"
   ]
  },
  {
   "cell_type": "code",
   "execution_count": null,
   "metadata": {
    "colab": {},
    "colab_type": "code",
    "id": "qB-LpUVy5A7e"
   },
   "outputs": [],
   "source": [
    "#Making Predictions\n",
    "predictions=classifier_optimized.predict(X_test)"
   ]
  },
  {
   "cell_type": "code",
   "execution_count": null,
   "metadata": {
    "colab": {
     "base_uri": "https://localhost:8080/",
     "height": 591
    },
    "colab_type": "code",
    "id": "5w-lvRwsSgaG",
    "outputId": "0a047519-d906-4490-f391-34d23eddca98"
   },
   "outputs": [],
   "source": [
    "fig,ax1 = plt.subplots()\n",
    "\n",
    "visualizer = ClassificationReport(RandomForestClassifier(bootstrap=True,max_depth=10,max_features=\"sqrt\",\n",
    "                                            min_samples_leaf=1, min_samples_split=5, n_estimators=2000) ,title=\"Optimized Parameters\",classes=[\"Non-Troll\",\"Troll\"], support=True)\n",
    "visualizer.fit(X_train, y_train)  # Fit the visualizer and the model\n",
    "visualizer.score(X_test, y_test)  # Evaluate the model on the test data\n",
    "g = visualizer.poof()             # Draw/show/poof the data"
   ]
  },
  {
   "cell_type": "code",
   "execution_count": null,
   "metadata": {
    "colab": {
     "base_uri": "https://localhost:8080/",
     "height": 187
    },
    "colab_type": "code",
    "id": "K8K1gzvB2QiW",
    "outputId": "10097182-94e8-4e57-eef0-5ca3d1014760"
   },
   "outputs": [],
   "source": [
    "#Evaluating new predictions\n",
    "print(confusion_matrix(y_test,predictions))  \n",
    "print(classification_report(y_test,predictions))  \n",
    "print(accuracy_score(y_test, predictions)) "
   ]
  },
  {
   "cell_type": "code",
   "execution_count": null,
   "metadata": {},
   "outputs": [],
   "source": [
    "y_test_int"
   ]
  },
  {
   "cell_type": "code",
   "execution_count": null,
   "metadata": {},
   "outputs": [],
   "source": [
    "metrics.roc_auc_score(y_test_int,predictions.astype(int))"
   ]
  },
  {
   "cell_type": "code",
   "execution_count": null,
   "metadata": {
    "colab": {
     "base_uri": "https://localhost:8080/",
     "height": 170
    },
    "colab_type": "code",
    "id": "JRZGffix6Ube",
    "outputId": "ea17fe17-0b96-47ab-89d9-b20e52146847"
   },
   "outputs": [],
   "source": [
    "#Printingo ut most import coefficients\n",
    "for name, importance in zip(shuffled_rows.columns, classifier_optimized.feature_importances_):\n",
    "    print(name, \"=\", importance)"
   ]
  },
  {
   "cell_type": "code",
   "execution_count": null,
   "metadata": {
    "colab": {
     "base_uri": "https://localhost:8080/",
     "height": 546
    },
    "colab_type": "code",
    "id": "8s4kEs_08BMe",
    "outputId": "f38adaa2-0bbf-4917-fea6-8b7e36858269"
   },
   "outputs": [],
   "source": [
    "#Plotting out most important features\n",
    "importances = classifier_optimized.feature_importances_\n",
    "order_indices = np.argsort(importances)\n",
    "\n",
    "\n",
    "plt.title('Feature Importances')\n",
    "plt.xlabel(\"Coefficient Size\")\n",
    "plt.ylabel(\"Feature\")\n",
    "plt.barh(range(len(order_indices)), importances[order_indices],color=[\"b\",\"r\",\"g\",\"y\"], align='center')\n",
    "plt.yticks(range(len(order_indices)), [shuffled_rows.columns[i] for i in order_indices])"
   ]
  },
  {
   "cell_type": "code",
   "execution_count": null,
   "metadata": {
    "colab": {
     "base_uri": "https://localhost:8080/",
     "height": 119
    },
    "colab_type": "code",
    "id": "stxs-g0usdmN",
    "outputId": "20d0fb59-f3de-4073-f7e9-20bbc5e77f0d"
   },
   "outputs": [],
   "source": [
    "esti=classifier_optimized.estimators_[0]\n",
    "esti"
   ]
  },
  {
   "cell_type": "code",
   "execution_count": null,
   "metadata": {
    "colab": {},
    "colab_type": "code",
    "id": "2PcPoMVR5Wcv"
   },
   "outputs": [],
   "source": [
    "#Creating a tree\n",
    "export_graphviz(esti, out_file='tree.dot', feature_names=list(shuffled_rows)[:-1],\n",
    "                rounded = True, proportion = False, \n",
    "                precision = 2, filled = True)\n",
    "\n",
    "# Convert to png\n",
    "\n",
    "call(['dot', '-Tpng', 'tree.dot', '-o', 'tree.png', '-Gdpi=600'])\n",
    "\n",
    "# Display image\n",
    "\n",
    "Image(filename = 'tree.png')\n"
   ]
  },
  {
   "cell_type": "code",
   "execution_count": null,
   "metadata": {},
   "outputs": [],
   "source": []
  }
 ],
 "metadata": {
  "colab": {
   "name": "Final_Project.ipynb",
   "provenance": [],
   "version": "0.3.2"
  },
  "kernelspec": {
   "display_name": "Python 3",
   "language": "python",
   "name": "python3"
  },
  "language_info": {
   "codemirror_mode": {
    "name": "ipython",
    "version": 3
   },
   "file_extension": ".py",
   "mimetype": "text/x-python",
   "name": "python",
   "nbconvert_exporter": "python",
   "pygments_lexer": "ipython3",
   "version": "3.6.5"
  }
 },
 "nbformat": 4,
 "nbformat_minor": 2
}
